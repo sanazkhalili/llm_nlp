{
  "nbformat": 4,
  "nbformat_minor": 0,
  "metadata": {
    "colab": {
      "provenance": []
    },
    "kernelspec": {
      "name": "python3",
      "display_name": "Python 3"
    },
    "language_info": {
      "name": "python"
    }
  },
  "cells": [
    {
      "cell_type": "code",
      "source": [
        "!pip install hazm"
      ],
      "metadata": {
        "id": "CBGVWkeCBMJu",
        "colab": {
          "base_uri": "https://localhost:8080/"
        },
        "outputId": "a0e0f7d1-43c7-45d8-e98a-acad009dd822"
      },
      "execution_count": 2,
      "outputs": [
        {
          "output_type": "stream",
          "name": "stdout",
          "text": [
            "Collecting hazm\n",
            "  Downloading hazm-0.10.0-py3-none-any.whl.metadata (11 kB)\n",
            "Collecting fasttext-wheel<0.10.0,>=0.9.2 (from hazm)\n",
            "  Downloading fasttext_wheel-0.9.2-cp310-cp310-manylinux_2_17_x86_64.manylinux2014_x86_64.whl.metadata (16 kB)\n",
            "Collecting flashtext<3.0,>=2.7 (from hazm)\n",
            "  Downloading flashtext-2.7.tar.gz (14 kB)\n",
            "  Preparing metadata (setup.py) ... \u001b[?25l\u001b[?25hdone\n",
            "Requirement already satisfied: gensim<5.0.0,>=4.3.1 in /usr/local/lib/python3.10/dist-packages (from hazm) (4.3.3)\n",
            "Requirement already satisfied: nltk<4.0.0,>=3.8.1 in /usr/local/lib/python3.10/dist-packages (from hazm) (3.8.1)\n",
            "Collecting numpy==1.24.3 (from hazm)\n",
            "  Downloading numpy-1.24.3-cp310-cp310-manylinux_2_17_x86_64.manylinux2014_x86_64.whl.metadata (5.6 kB)\n",
            "Collecting python-crfsuite<0.10.0,>=0.9.9 (from hazm)\n",
            "  Downloading python_crfsuite-0.9.10-cp310-cp310-manylinux_2_17_x86_64.manylinux2014_x86_64.whl.metadata (4.2 kB)\n",
            "Requirement already satisfied: scikit-learn<2.0.0,>=1.2.2 in /usr/local/lib/python3.10/dist-packages (from hazm) (1.3.2)\n",
            "Collecting pybind11>=2.2 (from fasttext-wheel<0.10.0,>=0.9.2->hazm)\n",
            "  Downloading pybind11-2.13.1-py3-none-any.whl.metadata (9.5 kB)\n",
            "Requirement already satisfied: setuptools>=0.7.0 in /usr/local/lib/python3.10/dist-packages (from fasttext-wheel<0.10.0,>=0.9.2->hazm) (71.0.4)\n",
            "Requirement already satisfied: scipy<1.14.0,>=1.7.0 in /usr/local/lib/python3.10/dist-packages (from gensim<5.0.0,>=4.3.1->hazm) (1.13.1)\n",
            "Requirement already satisfied: smart-open>=1.8.1 in /usr/local/lib/python3.10/dist-packages (from gensim<5.0.0,>=4.3.1->hazm) (7.0.4)\n",
            "Requirement already satisfied: click in /usr/local/lib/python3.10/dist-packages (from nltk<4.0.0,>=3.8.1->hazm) (8.1.7)\n",
            "Requirement already satisfied: joblib in /usr/local/lib/python3.10/dist-packages (from nltk<4.0.0,>=3.8.1->hazm) (1.4.2)\n",
            "Requirement already satisfied: regex>=2021.8.3 in /usr/local/lib/python3.10/dist-packages (from nltk<4.0.0,>=3.8.1->hazm) (2024.5.15)\n",
            "Requirement already satisfied: tqdm in /usr/local/lib/python3.10/dist-packages (from nltk<4.0.0,>=3.8.1->hazm) (4.66.5)\n",
            "Requirement already satisfied: threadpoolctl>=2.0.0 in /usr/local/lib/python3.10/dist-packages (from scikit-learn<2.0.0,>=1.2.2->hazm) (3.5.0)\n",
            "Requirement already satisfied: wrapt in /usr/local/lib/python3.10/dist-packages (from smart-open>=1.8.1->gensim<5.0.0,>=4.3.1->hazm) (1.16.0)\n",
            "Downloading hazm-0.10.0-py3-none-any.whl (892 kB)\n",
            "\u001b[2K   \u001b[90m━━━━━━━━━━━━━━━━━━━━━━━━━━━━━━━━━━━━━━━━\u001b[0m \u001b[32m892.6/892.6 kB\u001b[0m \u001b[31m12.6 MB/s\u001b[0m eta \u001b[36m0:00:00\u001b[0m\n",
            "\u001b[?25hDownloading numpy-1.24.3-cp310-cp310-manylinux_2_17_x86_64.manylinux2014_x86_64.whl (17.3 MB)\n",
            "\u001b[2K   \u001b[90m━━━━━━━━━━━━━━━━━━━━━━━━━━━━━━━━━━━━━━━━\u001b[0m \u001b[32m17.3/17.3 MB\u001b[0m \u001b[31m27.8 MB/s\u001b[0m eta \u001b[36m0:00:00\u001b[0m\n",
            "\u001b[?25hDownloading fasttext_wheel-0.9.2-cp310-cp310-manylinux_2_17_x86_64.manylinux2014_x86_64.whl (4.4 MB)\n",
            "\u001b[2K   \u001b[90m━━━━━━━━━━━━━━━━━━━━━━━━━━━━━━━━━━━━━━━━\u001b[0m \u001b[32m4.4/4.4 MB\u001b[0m \u001b[31m53.7 MB/s\u001b[0m eta \u001b[36m0:00:00\u001b[0m\n",
            "\u001b[?25hDownloading python_crfsuite-0.9.10-cp310-cp310-manylinux_2_17_x86_64.manylinux2014_x86_64.whl (1.1 MB)\n",
            "\u001b[2K   \u001b[90m━━━━━━━━━━━━━━━━━━━━━━━━━━━━━━━━━━━━━━━━\u001b[0m \u001b[32m1.1/1.1 MB\u001b[0m \u001b[31m44.2 MB/s\u001b[0m eta \u001b[36m0:00:00\u001b[0m\n",
            "\u001b[?25hDownloading pybind11-2.13.1-py3-none-any.whl (238 kB)\n",
            "\u001b[2K   \u001b[90m━━━━━━━━━━━━━━━━━━━━━━━━━━━━━━━━━━━━━━━━\u001b[0m \u001b[32m238.8/238.8 kB\u001b[0m \u001b[31m15.3 MB/s\u001b[0m eta \u001b[36m0:00:00\u001b[0m\n",
            "\u001b[?25hBuilding wheels for collected packages: flashtext\n",
            "  Building wheel for flashtext (setup.py) ... \u001b[?25l\u001b[?25hdone\n",
            "  Created wheel for flashtext: filename=flashtext-2.7-py2.py3-none-any.whl size=9297 sha256=612d680f98f28bce749c99f975846de3579872570aa4d41d9b0f032f5bb3a7c6\n",
            "  Stored in directory: /root/.cache/pip/wheels/bc/be/39/c37ad168eb2ff644c9685f52554440372129450f0b8ed203dd\n",
            "Successfully built flashtext\n",
            "Installing collected packages: python-crfsuite, flashtext, pybind11, numpy, fasttext-wheel, hazm\n",
            "  Attempting uninstall: numpy\n",
            "    Found existing installation: numpy 1.26.4\n",
            "    Uninstalling numpy-1.26.4:\n",
            "      Successfully uninstalled numpy-1.26.4\n",
            "\u001b[31mERROR: pip's dependency resolver does not currently take into account all the packages that are installed. This behaviour is the source of the following dependency conflicts.\n",
            "xgboost 2.1.1 requires nvidia-nccl-cu12; platform_system == \"Linux\" and platform_machine != \"aarch64\", which is not installed.\n",
            "albucore 0.0.13 requires numpy<2,>=1.24.4, but you have numpy 1.24.3 which is incompatible.\n",
            "albumentations 1.4.13 requires numpy>=1.24.4, but you have numpy 1.24.3 which is incompatible.\n",
            "pandas-stubs 2.1.4.231227 requires numpy>=1.26.0; python_version < \"3.13\", but you have numpy 1.24.3 which is incompatible.\u001b[0m\u001b[31m\n",
            "\u001b[0mSuccessfully installed fasttext-wheel-0.9.2 flashtext-2.7 hazm-0.10.0 numpy-1.24.3 pybind11-2.13.1 python-crfsuite-0.9.10\n"
          ]
        },
        {
          "output_type": "display_data",
          "data": {
            "application/vnd.colab-display-data+json": {
              "pip_warning": {
                "packages": [
                  "numpy"
                ]
              },
              "id": "53b3082068f44089982a9e07336f3136"
            }
          },
          "metadata": {}
        }
      ]
    },
    {
      "cell_type": "code",
      "source": [
        "import check\n",
        "from utils import remove_tags, remove_nasr\n",
        "from haraai_clean import General_normalization\n",
        "import check\n",
        "from hazm import Normalizer\n",
        "normalizer = Normalizer()"
      ],
      "metadata": {
        "id": "Cksb4p9ERaaR"
      },
      "execution_count": 7,
      "outputs": []
    },
    {
      "cell_type": "markdown",
      "source": [
        "## Read data"
      ],
      "metadata": {
        "id": "kt_SfHL4aXiQ"
      }
    },
    {
      "cell_type": "code",
      "source": [
        "fp = open('/content/anvari.txt')\n",
        "texts = fp.readlines()"
      ],
      "metadata": {
        "id": "CN4Nneia8gIR"
      },
      "execution_count": 8,
      "outputs": []
    },
    {
      "cell_type": "markdown",
      "source": [
        "## Remove tags"
      ],
      "metadata": {
        "id": "mI-Y8ps0aghL"
      }
    },
    {
      "cell_type": "code",
      "source": [
        "list_data =  remove_tags(texts)\n",
        "data_w_tags, min, max = remove_nasr(list_data)\n",
        "print(\"min number of words in sentence: \",min,\"\\n\", \"max number of words in sentence: \", max)\n",
        "print(len(data_w_tags))\n"
      ],
      "metadata": {
        "id": "9kDJFP1CBHd7",
        "colab": {
          "base_uri": "https://localhost:8080/"
        },
        "outputId": "f3c1b538-3a4c-478e-efcb-b22400dd9307"
      },
      "execution_count": 9,
      "outputs": [
        {
          "output_type": "stream",
          "name": "stdout",
          "text": [
            "min number of words in sentence:  4 \n",
            " max number of words in sentence:  334\n",
            "74517\n"
          ]
        }
      ]
    },
    {
      "cell_type": "code",
      "source": [
        "def remove_characters(data, characters):\n",
        "  for i in characters:\n",
        "    data = data.replace(i, ' ')\n",
        "  return data\n"
      ],
      "metadata": {
        "id": "n70DzTiCQ-Rr"
      },
      "execution_count": 10,
      "outputs": []
    },
    {
      "cell_type": "code",
      "source": [
        "general = General_normalization()\n",
        "characters = ['-' ,'_', '—', '؛', 'ء', '«', '»',')','(', '‏', ']', '[']"
      ],
      "metadata": {
        "id": "4m-YCv6laEBg"
      },
      "execution_count": 11,
      "outputs": []
    },
    {
      "cell_type": "markdown",
      "source": [
        "## Examples"
      ],
      "metadata": {
        "id": "wPvMDCWBaUXp"
      }
    },
    {
      "cell_type": "code",
      "source": [
        "data = 'بُزرگیِ-برای   حذف ي» و «ك عربی باید از دستورات  زیر استفاده نمود.- پیامبر ﷺ ﷰ، ﷹ\tمیفرمایند:'\n",
        "print(\"main data            \", data)\n",
        "\n",
        "data = normalizer.normalize(data, )      #remove_specials_char, persian_style, seperate_mi, unicodes_replacement\n",
        "print(\"normal_hazm:         \", data)\n",
        "\n",
        "data = general.arabic_correction(data)\n",
        "print(\"arabic_correction:   \", data)\n",
        "\n",
        "data = general.semi_space_correction(data)\n",
        "print(\"semi_space_correction:\", data)\n",
        "\n",
        "data = general.space_between_punctuations_and_text(data)\n",
        "print(\"space_between_punctua:\", data)\n",
        "\n",
        "data = general.special_alphabet_correction(data)\n",
        "print(\"special_alphabet_corr:\", data)\n",
        "\n",
        "data = general.alphabet_correction(data)\n",
        "print(\"alphabet_correction:  \", data)\n",
        "\n",
        "data = remove_characters(data, characters)\n",
        "print(\"remove_characters:    \", data)\n",
        "\n",
        "\n",
        "data = normalizer.correct_spacing(data) # # اصلاح فاصله گذاری\n",
        "print(\"correct_spacing:     \", data)\n",
        "\n",
        "\n",
        "data = data.replace('\\u200c', ' ') # حذف نیم فاصله\n",
        "print(\"replace semi:         \", data)\n",
        "\n",
        "output = general.remove_earab(data)\n",
        "\n",
        "print(output)"
      ],
      "metadata": {
        "colab": {
          "base_uri": "https://localhost:8080/"
        },
        "id": "c_UhHDaTaB8d",
        "outputId": "61ee8fca-7acc-4bd6-88e0-d42f1f7fdcde"
      },
      "execution_count": 12,
      "outputs": [
        {
          "output_type": "stream",
          "name": "stdout",
          "text": [
            "main data             بُزرگیِ-برای   حذف ي» و «ك عربی باید از دستورات  زیر استفاده نمود.- پیامبر ﷺ ﷰ، ﷹ\tمیفرمایند:\n",
            "normal_hazm:          بزرگی-برای حذف‌ی» و «ک عربی باید از دستورات زیر استفاده نمود. - پیامبر  صلی، صلی می‌فرمایند:\n",
            "arabic_correction:    بزرگی-برای حذف‌ی» و «ک عربی باید از دستورات زیر استفاده نمود. - پیامبر  صلی، صلی می‌فرمایند:\n",
            "semi_space_correction: بزرگی-برای حذف‌ی» و «ک عربی باید از دستورات زیر استفاده نمود. - پیامبر  صلی، صلی می‌فرمایند:\n",
            "space_between_punctua: بزرگی-برای حذف‌ی» و «ک عربی باید از دستورات زیر استفاده نمود . - پیامبر صلی ، صلی می‌فرمایند:\n",
            "special_alphabet_corr: بزرگی-برای حذف‌ی» و «ک عربی باید از دستورات زیر استفاده نمود . - پیامبر صلی ، صلی می‌فرمایند:\n",
            "alphabet_correction:   بزرگی-برای حذف‌ی» و «ک عربی باید از دستورات زیر استفاده نمود . - پیامبر صلی ، صلی می‌فرمایند:\n",
            "remove_characters:     بزرگی برای حذف‌ی  و  ک عربی باید از دستورات زیر استفاده نمود .   پیامبر صلی ، صلی می‌فرمایند:\n",
            "correct_spacing:      بزرگی برای حذف‌ی و ک عربی باید از دستورات زیر استفاده نمود. پیامبر صلی، صلی می‌فرمایند:\n",
            "replace semi:          بزرگی برای حذف ی و ک عربی باید از دستورات زیر استفاده نمود. پیامبر صلی، صلی می فرمایند:\n",
            "بزرگی برای حذف ی و ک عربی باید از دستورات زیر استفاده نمود. پیامبر صلی، صلی می فرمایند:\n"
          ]
        }
      ]
    },
    {
      "cell_type": "markdown",
      "source": [
        "## Check functions"
      ],
      "metadata": {
        "id": "8CuvX58naPpA"
      }
    },
    {
      "cell_type": "code",
      "source": [
        "print(\"check english char: \", check.check_english_char(list_clean))\n",
        "print(\"check number: \", check.check_numbers(list_clean))\n",
        "character = \"[-=!﷼٪×*٫\\٬)\\(]}{؛:«ٰ»ٰٓ‌ٔء><}٪]\"\n",
        "print(\"check special char: \", check.check_special_charecter(list_clean, character)) # except ،\n",
        "print(list_clean)"
      ],
      "metadata": {
        "colab": {
          "base_uri": "https://localhost:8080/"
        },
        "id": "kTmyJZIEQCCL",
        "outputId": "14949649-9185-4b84-d94d-737df2a63477"
      },
      "execution_count": 45,
      "outputs": [
        {
          "output_type": "stream",
          "name": "stdout",
          "text": [
            "check english char:  False\n",
            "check number:  False\n",
            "check special char:  False\n",
            "['کیوان چو قران به برج خاکی افگند', 'زاحداث، زمانه را به پاکی افگند', 'اجلال تو را ضو سماکی افگند']\n"
          ]
        }
      ]
    },
    {
      "cell_type": "markdown",
      "source": [
        "## Use with main_clean file"
      ],
      "metadata": {
        "id": "kox3PJ0faGpR"
      }
    },
    {
      "cell_type": "code",
      "source": [
        "from main_clean import clean\n",
        "fp = open('/content/anvari.txt')\n",
        "texts = fp.readlines()\n",
        "clean(texts[0:15])"
      ],
      "metadata": {
        "colab": {
          "base_uri": "https://localhost:8080/"
        },
        "id": "_RhkbGXARR6t",
        "outputId": "5b4e000a-a4d7-4d90-a6a1-e665acdc59d2"
      },
      "execution_count": 6,
      "outputs": [
        {
          "output_type": "execute_result",
          "data": {
            "text/plain": [
              "['کیوان چو قران به برج خاکی افگند\\n',\n",
              " 'زاحداث، زمانه را به پاکی افگند\\n',\n",
              " 'اجلال تو را ضو سماکی افگند\\n',\n",
              " 'اعدای تو را سوی مغاکی افگند\\n']"
            ]
          },
          "metadata": {},
          "execution_count": 6
        }
      ]
    }
  ]
}