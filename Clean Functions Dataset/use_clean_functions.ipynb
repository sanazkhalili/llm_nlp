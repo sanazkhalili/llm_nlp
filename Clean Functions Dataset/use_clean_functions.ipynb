{
  "nbformat": 4,
  "nbformat_minor": 0,
  "metadata": {
    "colab": {
      "provenance": []
    },
    "kernelspec": {
      "name": "python3",
      "display_name": "Python 3"
    },
    "language_info": {
      "name": "python"
    }
  },
  "cells": [
    {
      "cell_type": "code",
      "source": [
        "!pip install hazm"
      ],
      "metadata": {
        "id": "CBGVWkeCBMJu"
      },
      "execution_count": null,
      "outputs": []
    },
    {
      "cell_type": "code",
      "source": [
        "%cd /content/GenAI_PoetryLab/clean_functions"
      ],
      "metadata": {
        "colab": {
          "base_uri": "https://localhost:8080/"
        },
        "id": "Nngswr_3mrLc",
        "outputId": "8c4454fb-719e-471f-e9a4-e39ea8ce39f9"
      },
      "execution_count": 2,
      "outputs": [
        {
          "output_type": "stream",
          "name": "stdout",
          "text": [
            "/content/GenAI_PoetryLab/clean_functions\n"
          ]
        }
      ]
    },
    {
      "cell_type": "markdown",
      "source": [
        "## Use with main_clean file"
      ],
      "metadata": {
        "id": "kox3PJ0faGpR"
      }
    },
    {
      "cell_type": "code",
      "source": [
        "from main_clean import clean\n",
        "fp = open('/content/anvari.txt')\n",
        "texts = fp.readlines()\n",
        "list_clean = clean(texts[0:15])\n",
        "list_clean"
      ],
      "metadata": {
        "colab": {
          "base_uri": "https://localhost:8080/"
        },
        "id": "_RhkbGXARR6t",
        "outputId": "58d84344-6812-4e02-bdb6-76121c8702e5"
      },
      "execution_count": 6,
      "outputs": [
        {
          "output_type": "execute_result",
          "data": {
            "text/plain": [
              "['کیوان چو قران به برج خاکی افگند\\n',\n",
              " 'زاحداث، زمانه را به پاکی افگند\\n',\n",
              " 'اجلال تو را ضو سماکی افگند\\n',\n",
              " 'اعدای تو را سوی مغاکی افگند\\n']"
            ]
          },
          "metadata": {},
          "execution_count": 6
        }
      ]
    },
    {
      "cell_type": "code",
      "source": [
        "import check\n",
        "print(\"check english char: \", check.check_english_char(list_clean))\n",
        "print(\"check number: \", check.check_numbers(list_clean))\n",
        "\n",
        "character = \"[-=!﷼٪×*٫\\٬)\\(]}{؛«ٰ»ٰٓ‌ٔء><}٪]\"\n",
        "print(\"check special char: \", check.check_special_charecter(list_clean, character)) # except ،\n",
        "print(list_clean)"
      ],
      "metadata": {
        "colab": {
          "base_uri": "https://localhost:8080/"
        },
        "id": "SWOLBGuhp3hY",
        "outputId": "d950ad6d-356e-4f05-a22a-8b1e859955f2"
      },
      "execution_count": 7,
      "outputs": [
        {
          "output_type": "stream",
          "name": "stdout",
          "text": [
            "check english char:  False\n",
            "check number:  False\n",
            "check special char:  False\n",
            "['کیوان چو قران به برج خاکی افگند\\n', 'زاحداث، زمانه را به پاکی افگند\\n', 'اجلال تو را ضو سماکی افگند\\n', 'اعدای تو را سوی مغاکی افگند\\n']\n"
          ]
        }
      ]
    }
  ]
}