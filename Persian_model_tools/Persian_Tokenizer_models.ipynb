{
  "nbformat": 4,
  "nbformat_minor": 0,
  "metadata": {
    "colab": {
      "provenance": []
    },
    "kernelspec": {
      "name": "python3",
      "display_name": "Python 3"
    },
    "language_info": {
      "name": "python"
    }
  },
  "cells": [
    {
      "cell_type": "code",
      "source": [
        "text = 'من آن مرغ غزل خوانم'"
      ],
      "metadata": {
        "id": "ZO4y_V7ySPN1"
      },
      "execution_count": 42,
      "outputs": []
    },
    {
      "cell_type": "markdown",
      "source": [
        "## facebook/m2m100_418M"
      ],
      "metadata": {
        "id": "5_AvmlMQRjLF"
      }
    },
    {
      "cell_type": "code",
      "execution_count": 53,
      "metadata": {
        "id": "G0vT1O89ovO6",
        "colab": {
          "base_uri": "https://localhost:8080/"
        },
        "outputId": "c15b8f23-b198-4d4d-e507-86212ef5b383"
      },
      "outputs": [
        {
          "output_type": "stream",
          "name": "stdout",
          "text": [
            "__fa__ من آن مرغ غزل خوانم</s>\n",
            "__fa__ من آن مرغ\n"
          ]
        }
      ],
      "source": [
        "from transformers import M2M100ForConditionalGeneration, M2M100Tokenizer\n",
        "\n",
        "model = M2M100ForConditionalGeneration.from_pretrained(\"facebook/m2m100_418M\")\n",
        "tokenizer = M2M100Tokenizer.from_pretrained(\"facebook/m2m100_418M\")\n",
        "\n",
        "# translate Hindi to French\n",
        "tokenizer.src_lang = \"fa\"\n",
        "encoded = tokenizer(text, return_tensors=\"pt\")\n",
        "print(tokenizer.decode([128025, 382, 2164, 84903, 3242, 26587, 35444, 550, 2]))\n",
        "print(tokenizer.decode([128025, 382, 2164,  84903]))"
      ]
    },
    {
      "cell_type": "markdown",
      "source": [
        "## facebook/mbart-large-50-many-to-many-mmt"
      ],
      "metadata": {
        "id": "tv6SAvoaYlV7"
      }
    },
    {
      "cell_type": "code",
      "source": [
        "from transformers import MBartForConditionalGeneration, MBart50TokenizerFast\n",
        "\n",
        "\n",
        "model = MBartForConditionalGeneration.from_pretrained(\"facebook/mbart-large-50-many-to-many-mmt\")\n",
        "tokenizer = MBart50TokenizerFast.from_pretrained(\"facebook/mbart-large-50-many-to-many-mmt\")\n",
        "\n",
        "tokenizer.src_lang = \"fa_IR\"\n",
        "encoded = tokenizer(text, return_tensors=\"pt\")\n",
        "print(tokenizer.decode([250029, 230, 1228, 65168, 142089, 22914, 28918, 2]))\n",
        "print(tokenizer.decode([250029, 230, 1228, 65168]))"
      ],
      "metadata": {
        "colab": {
          "base_uri": "https://localhost:8080/"
        },
        "id": "2H6vEO9JRdVJ",
        "outputId": "a013ac07-7509-4e78-92c3-85ad01eb6fd0"
      },
      "execution_count": 54,
      "outputs": [
        {
          "output_type": "stream",
          "name": "stdout",
          "text": [
            "fa_IR من آن مرغ غزل خوانم</s>\n",
            "fa_IR من آن مرغ\n"
          ]
        }
      ]
    },
    {
      "cell_type": "markdown",
      "source": [
        "## jrazi/persian-poem-classifier"
      ],
      "metadata": {
        "id": "VjMHpmUWYq4e"
      }
    },
    {
      "cell_type": "code",
      "source": [
        "from transformers import AutoModelForSequenceClassification, AutoTokenizer\n",
        "\n",
        "tokenizer = AutoTokenizer.from_pretrained(\"jrazi/persian-poem-classifier\")\n",
        "\n",
        "tokens = tokenizer(text, return_tensors=\"pt\")\n",
        "\n",
        "print(tokenizer.decode([2, 254, 1471, 2046, 9252, 22072, 3]))\n",
        "print(tokenizer.decode([2, 254, 1471, 2046]))"
      ],
      "metadata": {
        "colab": {
          "base_uri": "https://localhost:8080/"
        },
        "id": "dPrfkRdrS8ff",
        "outputId": "ce6c32c5-8d77-4442-867b-8e1e3d1aa644"
      },
      "execution_count": 55,
      "outputs": [
        {
          "output_type": "stream",
          "name": "stdout",
          "text": [
            "[CLS] من ان مرغ غزل خوانم[SEP]\n",
            "[CLS] من ان مرغ\n"
          ]
        }
      ]
    },
    {
      "cell_type": "markdown",
      "source": [
        "## ai-forever/mGPT-1.3B-persian"
      ],
      "metadata": {
        "id": "KAsTojeMYv1R"
      }
    },
    {
      "cell_type": "code",
      "source": [
        "from transformers import AutoModelForSequenceClassification, AutoTokenizer\n",
        "\n",
        "tokenizer = AutoTokenizer.from_pretrained(\"ai-forever/mGPT-1.3B-persian\")\n",
        "\n",
        "tokenizer(text, return_tensors=\"pt\")\n",
        "\n",
        "tokenizer.decode( [3873,  4755,  5477,  1786,  4632, 26806, 44484,   414])"
      ],
      "metadata": {
        "colab": {
          "base_uri": "https://localhost:8080/",
          "height": 36
        },
        "id": "kCr2keNhTZPu",
        "outputId": "5ea579a1-b6aa-4049-f456-9ebe49e13a7d"
      },
      "execution_count": 46,
      "outputs": [
        {
          "output_type": "execute_result",
          "data": {
            "text/plain": [
              "'من آن مرغ غزل خوانم'"
            ],
            "application/vnd.google.colaboratory.intrinsic+json": {
              "type": "string"
            }
          },
          "metadata": {},
          "execution_count": 46
        }
      ]
    },
    {
      "cell_type": "markdown",
      "source": [
        "## google-bert/bert-base-multilingual-cased"
      ],
      "metadata": {
        "id": "gW6NTSPpYyh4"
      }
    },
    {
      "cell_type": "code",
      "source": [
        "from transformers import AutoModelForSequenceClassification, AutoTokenizer\n",
        "\n",
        "tokenizer = AutoTokenizer.from_pretrained(\"google-bert/bert-base-multilingual-cased\")\n",
        "\n",
        "tokenizer(text, return_tensors=\"pt\")\n",
        "\n",
        "tokenizer.decode( [  101, 10289, 11330,   788, 71766,   782, 31951,   770, 21046, 10700,102])"
      ],
      "metadata": {
        "colab": {
          "base_uri": "https://localhost:8080/",
          "height": 36
        },
        "id": "AsHxX79HUeKS",
        "outputId": "f594b7c5-8607-4df0-8901-150431881554"
      },
      "execution_count": 47,
      "outputs": [
        {
          "output_type": "execute_result",
          "data": {
            "text/plain": [
              "'[CLS] من آن مرغ غزل خوانم [SEP]'"
            ],
            "application/vnd.google.colaboratory.intrinsic+json": {
              "type": "string"
            }
          },
          "metadata": {},
          "execution_count": 47
        }
      ]
    },
    {
      "cell_type": "markdown",
      "source": [
        "## NousResearch/Meta-Llama-3-8B-Alternate-Tokenizer"
      ],
      "metadata": {
        "id": "DRm0v7fNY1Ys"
      }
    },
    {
      "cell_type": "code",
      "source": [
        "from transformers import AutoModelForSequenceClassification, AutoTokenizer\n",
        "\n",
        "tokenizer = AutoTokenizer.from_pretrained(\"NousResearch/Meta-Llama-3-8B-Alternate-Tokenizer\")\n",
        "\n",
        "tokenizer(text, return_tensors=\"pt\")\n",
        "tokenizer.decode([128000, 100719, 100490, 100732,  82878])"
      ],
      "metadata": {
        "colab": {
          "base_uri": "https://localhost:8080/",
          "height": 53
        },
        "id": "Hob3EB-uUyVV",
        "outputId": "81d99da6-693d-46e0-f86b-96f9b294e18d"
      },
      "execution_count": 48,
      "outputs": [
        {
          "output_type": "stream",
          "name": "stderr",
          "text": [
            "Special tokens have been added in the vocabulary, make sure the associated word embeddings are fine-tuned or trained.\n"
          ]
        },
        {
          "output_type": "execute_result",
          "data": {
            "text/plain": [
              "'<|begin_of_text|>من آن مرغ'"
            ],
            "application/vnd.google.colaboratory.intrinsic+json": {
              "type": "string"
            }
          },
          "metadata": {},
          "execution_count": 48
        }
      ]
    },
    {
      "cell_type": "markdown",
      "source": [
        "## rasoulasadian/persian_poem_tokenizer"
      ],
      "metadata": {
        "id": "8b2JqRo1Y3De"
      }
    },
    {
      "cell_type": "code",
      "source": [
        "from transformers import AutoModelForSequenceClassification, AutoTokenizer\n",
        "\n",
        "tokenizer = AutoTokenizer.from_pretrained(\"rasoulasadian/persian_poem_tokenizer\")\n",
        "\n",
        "tokenizer(text, return_tensors=\"pt\")\n",
        "print(tokenizer.decode([2, 293, 286, 820, 83, 970, 1326, 159, 3]))\n",
        "print(tokenizer.decode([2, 293, 286, 820]))"
      ],
      "metadata": {
        "colab": {
          "base_uri": "https://localhost:8080/"
        },
        "id": "VdKzTri8VyRD",
        "outputId": "ae7d8983-fa8a-4b41-c921-52bd06c9ea70"
      },
      "execution_count": 49,
      "outputs": [
        {
          "output_type": "stream",
          "name": "stdout",
          "text": [
            "[CLS] من ان مرغ غزل خوانم [SEP]\n",
            "[CLS] من ان مرغ\n"
          ]
        }
      ]
    },
    {
      "cell_type": "markdown",
      "source": [
        "## mitra-mir/ALBERT-Persian-Poetry"
      ],
      "metadata": {
        "id": "GA1ff12rY7_m"
      }
    },
    {
      "cell_type": "code",
      "source": [
        "tokenizer =  AutoTokenizer.from_pretrained('mitra-mir/ALBERT-Persian-Poetry')\n",
        "\n",
        "tokenizer(text, return_tensors=\"pt\")\n",
        "print(tokenizer.decode([2, 254, 1471, 2046, 9252, 22072, 3]))\n",
        "print(tokenizer.decode([2, 254, 1471, 2046]))"
      ],
      "metadata": {
        "colab": {
          "base_uri": "https://localhost:8080/"
        },
        "id": "YibF0LDGWX5W",
        "outputId": "189b7a79-07af-42d7-d445-f8b417203e99"
      },
      "execution_count": 50,
      "outputs": [
        {
          "output_type": "stream",
          "name": "stdout",
          "text": [
            "[CLS] من ان مرغ غزل خوانم[SEP]\n",
            "[CLS] من ان مرغ\n"
          ]
        }
      ]
    },
    {
      "cell_type": "markdown",
      "source": [
        "## mitra-mir/BERT-Persian-Poetry"
      ],
      "metadata": {
        "id": "NRcB1TBDZ5FH"
      }
    },
    {
      "cell_type": "code",
      "source": [
        "tokenizer =  AutoTokenizer.from_pretrained('mitra-mir/BERT-Persian-Poetry')\n",
        "\n",
        "token = tokenizer(text, return_tensors=\"pt\")\n",
        "print(tokenizer.decode([2, 1984, 595, 1125, 4970, 13481, 28012, 3]))\n",
        "print(tokenizer.decode([2, 1984, 595, 1125]))"
      ],
      "metadata": {
        "colab": {
          "base_uri": "https://localhost:8080/"
        },
        "id": "8JC1zJHYWzIl",
        "outputId": "3db6988f-42ca-4d3a-f503-36912838bdd4"
      },
      "execution_count": 51,
      "outputs": [
        {
          "output_type": "stream",
          "name": "stdout",
          "text": [
            "[CLS] من آن مرغ غزل خوانم [SEP]\n",
            "[CLS] من آن\n"
          ]
        }
      ]
    },
    {
      "cell_type": "markdown",
      "source": [
        "## HooshvareLab/bert-base-parsbert-uncased"
      ],
      "metadata": {
        "id": "rBzAr4ifZ8yl"
      }
    },
    {
      "cell_type": "code",
      "source": [
        "tokenizer =  AutoTokenizer.from_pretrained('HooshvareLab/bert-base-parsbert-uncased')\n",
        "\n",
        "tokenizer(text, return_tensors=\"pt\")\n",
        "print(tokenizer.decode([2, 2078, 2050, 4108, 17837, 3559, 1155, 4]))\n",
        "print(tokenizer.decode([2, 2078, 2050, 4108, 17837]))"
      ],
      "metadata": {
        "colab": {
          "base_uri": "https://localhost:8080/"
        },
        "id": "eLWkwg7sYfgu",
        "outputId": "4c14c9bc-8c13-491e-d679-a00343a0a133"
      },
      "execution_count": 52,
      "outputs": [
        {
          "output_type": "stream",
          "name": "stdout",
          "text": [
            "[CLS] من ان مرغ غزل خوانم [SEP]\n",
            "[CLS] من ان مرغ غزل\n"
          ]
        }
      ]
    }
  ]
}