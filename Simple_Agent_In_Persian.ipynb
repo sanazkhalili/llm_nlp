{
  "cells": [
    {
      "cell_type": "markdown",
      "source": [
        "## Install libraries"
      ],
      "metadata": {
        "id": "tPFQNrA396EI"
      }
    },
    {
      "cell_type": "code",
      "execution_count": null,
      "metadata": {
        "id": "ujQVUvA9QlD4"
      },
      "outputs": [],
      "source": [
        "! pip install --quiet langchain langchain_cohere langchain_experimental"
      ]
    },
    {
      "cell_type": "code",
      "source": [
        "!pip install mysql-connector-python"
      ],
      "metadata": {
        "colab": {
          "base_uri": "https://localhost:8080/"
        },
        "id": "K_Tl9EViwMx9",
        "outputId": "90e40729-021e-4499-8980-736b341c8c73"
      },
      "execution_count": 10,
      "outputs": [
        {
          "output_type": "stream",
          "name": "stdout",
          "text": [
            "Collecting mysql-connector-python\n",
            "  Downloading mysql_connector_python-8.4.0-cp310-cp310-manylinux_2_17_x86_64.whl (19.4 MB)\n",
            "\u001b[2K     \u001b[90m━━━━━━━━━━━━━━━━━━━━━━━━━━━━━━━━━━━━━━━━\u001b[0m \u001b[32m19.4/19.4 MB\u001b[0m \u001b[31m36.3 MB/s\u001b[0m eta \u001b[36m0:00:00\u001b[0m\n",
            "\u001b[?25hInstalling collected packages: mysql-connector-python\n",
            "Successfully installed mysql-connector-python-8.4.0\n"
          ]
        }
      ]
    },
    {
      "cell_type": "code",
      "source": [
        "!pip install gpt4all"
      ],
      "metadata": {
        "colab": {
          "base_uri": "https://localhost:8080/"
        },
        "id": "QjeqPXcx4Lzz",
        "outputId": "a0526ce4-1f14-4492-d659-ac29ba9b7da4"
      },
      "execution_count": 95,
      "outputs": [
        {
          "output_type": "stream",
          "name": "stdout",
          "text": [
            "Requirement already satisfied: gpt4all in /usr/local/lib/python3.10/dist-packages (2.6.0)\n",
            "Requirement already satisfied: requests in /usr/local/lib/python3.10/dist-packages (from gpt4all) (2.31.0)\n",
            "Requirement already satisfied: tqdm in /usr/local/lib/python3.10/dist-packages (from gpt4all) (4.66.4)\n",
            "Requirement already satisfied: typing-extensions>=4.3.0 in /usr/local/lib/python3.10/dist-packages (from gpt4all) (4.11.0)\n",
            "Requirement already satisfied: charset-normalizer<4,>=2 in /usr/local/lib/python3.10/dist-packages (from requests->gpt4all) (3.3.2)\n",
            "Requirement already satisfied: idna<4,>=2.5 in /usr/local/lib/python3.10/dist-packages (from requests->gpt4all) (3.7)\n",
            "Requirement already satisfied: urllib3<3,>=1.21.1 in /usr/local/lib/python3.10/dist-packages (from requests->gpt4all) (2.0.7)\n",
            "Requirement already satisfied: certifi>=2017.4.17 in /usr/local/lib/python3.10/dist-packages (from requests->gpt4all) (2024.2.2)\n"
          ]
        }
      ]
    },
    {
      "cell_type": "code",
      "source": [
        "# Create the Cohere chat model\n",
        "from langchain_cohere.chat_models import ChatCohere\n",
        "from langchain_community.tools.tavily_search import TavilySearchResults\n",
        "import os\n",
        "from langchain.agents import AgentExecutor\n",
        "from langchain_cohere.react_multi_hop.agent import create_cohere_react_agent\n",
        "from langchain_core.prompts import ChatPromptTemplate"
      ],
      "metadata": {
        "id": "NDsjXf6q_orw"
      },
      "execution_count": 1,
      "outputs": []
    },
    {
      "cell_type": "markdown",
      "source": [
        "## Create a database and table for sample example tools"
      ],
      "metadata": {
        "id": "d6lObOkJ-KK4"
      }
    },
    {
      "cell_type": "code",
      "source": [
        "import sqlite3\n",
        "\n",
        "conn = sqlite3.connect('customer_flight.db')\n",
        "\n",
        "cursor = conn.cursor()\n",
        "\n",
        "create_table_query = \"\"\"\n",
        "CREATE TABLE IF NOT EXISTS flights (\n",
        "    id INTEGER PRIMARY KEY,\n",
        "    flight_no INT,\n",
        "    arrive TEXT,\n",
        "    take_off TEXT,\n",
        "    destination TEXT,\n",
        "    origin TEXT\n",
        ")\n",
        "\"\"\"\n",
        "\n",
        "cursor.execute(create_table_query)\n",
        "print(\"Table 'flights' created successfully\")\n",
        "\n",
        "sample_data = [\n",
        "    (1, 101, '10:30', '12:00', 'تهران', 'اصفهان'),\n",
        "    (2, 102, '14:45', '16:15', 'شیراز', 'مشهد'),\n",
        "    (3, 103, '18:00', '20:30', 'اهواز', 'رشت'),\n",
        "    (4, 104, '08:15', '10:00', 'یزد', 'قم'),\n",
        "    (5, 105, '21:00', '22:30', 'کرمان', 'همدان')\n",
        "]\n",
        "\n",
        "cursor.executemany(\"INSERT INTO flights (id, flight_no, arrive, take_off, destination, origin) VALUES (?, ?, ?, ?, ?, ?)\", sample_data)\n",
        "print(\"Sample data inserted successfully\")\n",
        "\n",
        "conn.commit()\n",
        "conn.close()\n"
      ],
      "metadata": {
        "colab": {
          "base_uri": "https://localhost:8080/"
        },
        "id": "iCxACc-EwJy8",
        "outputId": "2b2fa037-eeac-4a66-eb64-56ad208acca1"
      },
      "execution_count": 4,
      "outputs": [
        {
          "output_type": "stream",
          "name": "stdout",
          "text": [
            "Table 'flights' created successfully\n",
            "Sample data inserted successfully\n"
          ]
        }
      ]
    },
    {
      "cell_type": "code",
      "source": [
        "import sqlite3\n",
        "from langchain_core.tools import tool\n",
        "\n",
        "@tool\n",
        "def search_flights_by_destination(destination):\n",
        "    \"\"\"Search for flights based on destination. Values are Persian\"\"\"\n",
        "    conn = sqlite3.connect('customer_flight.db')\n",
        "    cursor = conn.cursor()\n",
        "\n",
        "    query = \"SELECT * FROM flights WHERE destination = ?\"\n",
        "    cursor.execute(query, (destination,))\n",
        "    rows = cursor.fetchall()\n",
        "    column_names = [column[0] for column in cursor.description]\n",
        "    results = [dict(zip(column_names, row)) for row in rows]\n",
        "\n",
        "    cursor.close()\n",
        "    conn.close()\n",
        "\n",
        "    return results\n"
      ],
      "metadata": {
        "id": "AmtGfzRHwWZ9"
      },
      "execution_count": 5,
      "outputs": []
    },
    {
      "cell_type": "markdown",
      "source": [
        "## Use FAQ in https://www.alibaba.ir/iranout for createing another tool"
      ],
      "metadata": {
        "id": "o_0CrX6l-Rmn"
      }
    },
    {
      "cell_type": "code",
      "source": [
        "import pandas as pd\n",
        "\n",
        "df = pd.read_excel('questions_and_answers.xlsx')\n",
        "\n",
        "doc = df.to_dict('records')\n",
        "\n",
        "print(doc)\n"
      ],
      "metadata": {
        "colab": {
          "base_uri": "https://localhost:8080/"
        },
        "id": "ifqOVMnR3AXC",
        "outputId": "6b2922ea-5153-45b0-f486-f9ed682de830"
      },
      "execution_count": 10,
      "outputs": [
        {
          "output_type": "stream",
          "name": "stdout",
          "text": [
            "[{'Question': 'بلیط پرواز چه کشورها و ایرلاین\\u200cهایی را می\\u200cتوانم\\u200c در سایت علی\\u200cبابا جستجو و خریداری کنم؟', 'Answer': 'بلیط تمام خطوط هوایی دنیا در سایت علی\\u200cبابا موجود است، چه پروازهایی که مبدا یا مقصد آنها ایران است و چه پروازهای داخلی دورترین کشورهای دنیا. پروازهای ایرلاین\\u200cهایی مثل لوفت\\u200cهانزا، امارات، قطرایرویز، ترکیش\\u200cایر، ایرفرانس، کی\\u200cال\\u200cام، آئروفلوت، آلیتالیا، اوکراینی، ایرایژیا، پگاسوس و ده\\u200cها ایرلاین دیگر در علی\\u200cبابا قابل تهیه هستند. همچنین بلیط پروازهای خارجیِ شرکت های هواپیمایی داخلی مانند ماهان، ایران\\u200cایر، قشم ایر، آتا و .. نیز روی سایت علی\\u200cبابا به فروش می\\u200cرسد.'}, {'Question': 'چطور می توانم در مورد مقررات پرواز یا ویزا مربوط به سفرم اطمینان پیدا کنم؟', 'Answer': 'حتما قبل از انتخاب پرواز خود در مورد مقررات پرواز و قوانین مربوط به ویزا تحقیق کنید (مثلا ممکن است مقصد سفر شما نیاز به ویزا نداشته باشد ولی برای توقفی که در مسیر دارد نیاز به ویزای ترانزیت داشته باشید). برای این کار به صفحه قوانین و مقررات پرواز خارجی مراجعه کنید و در صورتی که نیاز به اطلاعات بیشتری داشتید با پشتیبانی علی\\u200cبابا تماس بگیرید.\\n ۰۲۱-۴۳۹۰۰۰۰۰ : شماره تماس'}, {'Question': 'آیا برای خرید بلیط ایرلاین\\u200cهای خارجی، نیازی به کردیت\\u200cکارت یا روش\\u200cهای پرداخت ارزی خواهم داشت؟', 'Answer': 'به هیچ وجه. شما هزینه\\u200c بلیط را به صورت ریالی و با کارت\\u200cهای شتابی که در دست دارید، تنها با داشتن رمز دوم کارت پرداخت می کنید و بلیط شما بلافاصله صادر خواهد شد و قابل استفاده خواهد بود.'}, {'Question': 'آیا ساعت، قیمت و دیگر مشخصات پروازها روی سایت علی\\u200cبابا قطعی است؟', 'Answer': 'بله، آنچه پس از جستجوی پرواز مورد نظر خود روی سایت علی\\u200cبابا می\\u200cبینید، برنامه قطعی پروازهای ایرلاین\\u200cهاست که به ریال محاسبه شده است. اگر احیانا تغییری در ساعت یا برنامه\\u200cی پرواز به وجود بیاید، از طریق پشتیبانی سایت علی\\u200cبابا به اطلاع شما خواهد رسید.'}, {'Question': 'آیا پروازهای چارتر خارجی هم روی سایت علی\\u200cبابا عرضه می\\u200cشود؟', 'Answer': 'بله. بلیط کلیه\\u200cی پروازهای چارتر خارجی که از سوی ایرلاین\\u200cهای داخلی یا خارجی برای فروش عرضه می\\u200cشوند را می\\u200cتوانید روی سایت علی\\u200cبابا ببینید.'}, {'Question': 'چطور می توانم برای سفرم ارزان ترین بلیط ممکن را تهیه کنم؟', 'Answer': 'ارزان بودن بلیط سفر به عوامل مختلفی مرتبط است که برخی از مهم ترین آنها این موارد هستند:\\nدر پروازهای سیستمی معمولا هرچه به زمان پرواز نزدیک تر می شویم به دلیل پر شدن کلاس نرخی های ارزان تر، قیمت آن افزایش پیدا می کند. معمولا هرچه زودتر پروازتان را بخرید ارزان تر است. بلیط ایرلاین های مختلف را چک کنید. برای اغلب مسیرها ایرلاین های کم هزینه (Low Cost Airline) وجود دارند که در ازای خدمات و امکانات کمتر، پروازهای ارزان تری به شما پیشنهاد می دهند. در روزهای مختلف سال، فصل و هفته و حتی ساعات متفاوت، قیمت یک پرواز ممکن است تغییرات زیادی داشته باشد. با استفاده از تقویم قیمتی و فیلترهای تعبیه شده جستجو می توانید با چند روز جابجایی پروازهای به مراتب ارزان تری پیدا کنید. علاوه بر این، پروازهای توقف دار و صبح زود هم معمولا پروازهای ارزان تری هستند. بلیط خود را از سایت های معتبر خریداری کنید و قیمت آنها را در ازای خدمتی که می دهند با هم مقایسه کنید. با در نظر گرفتن این موارد می توانید هوشمندانه، بهترین و ارزان ترین پرواز را برای سفر خود تهیه کنید.'}, {'Question': 'تقویم قیمتی (Flexible Date) چیست و چه کمکی به من می\\u200cکند؟', 'Answer': 'تقویم قیمتی امکان مقایسه قیمت های روزهای نزدیک به جستجو را به شما می دهد. با کلیلک روی نوار سبز رنگ تقویم قیمتی، قیمت بلیط\\u200cهای ۳ روز قبل و ۳ روز بعد از تاریخ مورد نظر شما در جدولی نمایش داده می\\u200cشود و به این ترتیب می\\u200cتوانید با تغییر کوچکی در برنامه\\u200cی سفر خود، هزینه\\u200cی بلیط را حتی تا نصف کاهش دهید!'}, {'Question': 'بهترین پروازها (Best Flights) چه پروازهایی هستند؟', 'Answer': 'در هر جستجویی که انجام می دهید، به صورت پیش فرض در ابتدای فهرست با پروازهایی روبرو می شوید که به عنوان بهترین پروازها به شما معرفی می شوند. در الگوریتم گزینش و نمایش این پروازها هر دو فاکتور قیمت و مدت زمان سفر در نظر گرفته شده است.'}, {'Question': 'چگونه می توانم بلیط پروازم را کنسل کنم یا تغییر دهم و از شرایط و جریمه آن مطلع شوم؟', 'Answer': 'برای اطلاع دقیق از شرایط و جریمه کنسلی یا تغییر بلیط پرواز مورد نظرتان در هر ساعتی از شبانه روز می توانید با پشتیبانی علی\\u200cبابا تماس بگیرید.'}, {'Question': 'برای سوار شدن به هواپیما چه زمانی باید در فرودگاه باشم و چه مدارکی مورد نیاز است؟', 'Answer': 'برای اینکه بدون دغدغه سفر خود را آغاز کنید باید حداقل دو ساعت قبل از پرواز در فرودگاه حضور داشته باشید. برای پرواز نیازی به داشتن پرینت بلیط ندارید و تصویر و شماره بلیط به همراه مدارک شناسایی کفایت می کند.'}]\n"
          ]
        }
      ]
    },
    {
      "cell_type": "code",
      "source": [
        "from langchain_community.embeddings import GPT4AllEmbeddings\n",
        "import numpy as np\n",
        "class VectorStoreRetriever:\n",
        "    def __init__(self, docs: list, vectors: list, oai_client):\n",
        "        self._arr = np.array(vectors)\n",
        "        self._docs = docs\n",
        "        self._client = oai_client\n",
        "\n",
        "    @classmethod\n",
        "    def from_docs(cls, docs, oai_client):\n",
        "        embeddings = oai_client.embed_documents([doc[\"Question\"] for doc in docs])\n",
        "        vectors = [emb for emb in embeddings]\n",
        "        return cls(docs, vectors, oai_client)\n",
        "\n",
        "    def query(self, query: str, k: int = 5) -> list[dict]:\n",
        "        embed = self._client.embed_documents([query])\n",
        "\n",
        "        # \"@\" is just a matrix multiplication in python\n",
        "        scores = np.array(embed) @ self._arr.T\n",
        "        scores = scores[0]\n",
        "        top_k_idx = np.argpartition(scores, -k)[-k:]\n",
        "        top_k_idx_sorted = top_k_idx[np.argsort(-scores[top_k_idx])]\n",
        "\n",
        "\n",
        "\n",
        "        return [\n",
        "            {**self._docs[idx], \"similarity\": scores[idx]} for idx in top_k_idx_sorted\n",
        "        ]\n",
        "\n",
        "\n",
        "retriever = VectorStoreRetriever.from_docs(doc, GPT4AllEmbeddings())\n",
        "\n",
        "\n",
        "@tool\n",
        "def lookup_policy(query: str) -> str:\n",
        "    \"\"\"Looks up frequently asked questions (FAQ) in a Persian-language document.\n",
        "\n",
        "    Parameters:\n",
        "        query (str): The query or question for which the policy is being looked up.\n",
        "\n",
        "    Returns:\n",
        "        str: The policy or answer corresponding to the provided query.\"\"\"\n",
        "    docs = retriever.query(query, k=2)\n",
        "    return \"\\n\\n\".join([doc[\"Answer\"] for doc in docs])"
      ],
      "metadata": {
        "id": "eBwhrusV37op"
      },
      "execution_count": 19,
      "outputs": []
    },
    {
      "cell_type": "markdown",
      "source": [
        "## Define llm"
      ],
      "metadata": {
        "id": "5UkYe4Fb_BHO"
      }
    },
    {
      "cell_type": "code",
      "execution_count": 20,
      "metadata": {
        "id": "hPybpQ5whLkv"
      },
      "outputs": [],
      "source": [
        "os.environ['COHERE_API_KEY'] = \"\"\n",
        "llm_model = ChatCohere(model=\"command-r-plus\", temperature=0.3)"
      ]
    },
    {
      "cell_type": "markdown",
      "source": [
        "## Search on web is another tool\n"
      ],
      "metadata": {
        "id": "WzPNyV-M_UID"
      }
    },
    {
      "cell_type": "code",
      "source": [
        "os.environ['TAVILY_API_KEY'] = \"\"\n",
        "internet_search = TavilySearchResults()"
      ],
      "metadata": {
        "id": "O22b1Wi5_SYK"
      },
      "execution_count": 21,
      "outputs": []
    },
    {
      "cell_type": "markdown",
      "source": [
        "## Create a Prompt template"
      ],
      "metadata": {
        "id": "QRsmXEVR_Z3V"
      }
    },
    {
      "cell_type": "code",
      "execution_count": 27,
      "metadata": {
        "id": "BPo3ZIHkF3W4"
      },
      "outputs": [],
      "source": [
        "# Create the prompt\n",
        "prompt = ChatPromptTemplate.from_template(\"{input} Just search in Persian-language in SQLite for every response.\")\n",
        "\n",
        "\n",
        "# Create the ReAct agent\n",
        "agent = create_cohere_react_agent(\n",
        "    llm = llm_model,\n",
        "    tools = [internet_search,lookup_policy, search_flights_by_destination],\n",
        "    prompt=prompt,\n",
        ")"
      ]
    },
    {
      "cell_type": "code",
      "execution_count": 28,
      "metadata": {
        "id": "dks-7TGGtdLE"
      },
      "outputs": [],
      "source": [
        "agent_executor = AgentExecutor(agent = agent,\n",
        "                               tools=[internet_search,lookup_policy, search_flights_by_destination],\n",
        "                               verbose=True)"
      ]
    },
    {
      "cell_type": "code",
      "execution_count": 31,
      "metadata": {
        "colab": {
          "base_uri": "https://localhost:8080/"
        },
        "id": "Jl0JNX2TF3W5",
        "outputId": "f3ab929d-2303-4b71-81da-badf682ba53b"
      },
      "outputs": [
        {
          "output_type": "stream",
          "name": "stdout",
          "text": [
            "\n",
            "\n",
            "\u001b[1m> Entering new AgentExecutor chain...\u001b[0m\n",
            "\u001b[32;1m\u001b[1;3m\n",
            "I will search for the cheapest way to buy a ticket in Persian.\n",
            "{'tool_name': 'lookup_policy', 'parameters': {'query': 'ارزان ترین بلیط رو چه طوری بخرم'}}\n",
            "\u001b[0m\u001b[33;1m\u001b[1;3mارزان بودن بلیط سفر به عوامل مختلفی مرتبط است که برخی از مهم ترین آنها این موارد هستند:\n",
            "در پروازهای سیستمی معمولا هرچه به زمان پرواز نزدیک تر می شویم به دلیل پر شدن کلاس نرخی های ارزان تر، قیمت آن افزایش پیدا می کند. معمولا هرچه زودتر پروازتان را بخرید ارزان تر است. بلیط ایرلاین های مختلف را چک کنید. برای اغلب مسیرها ایرلاین های کم هزینه (Low Cost Airline) وجود دارند که در ازای خدمات و امکانات کمتر، پروازهای ارزان تری به شما پیشنهاد می دهند. در روزهای مختلف سال، فصل و هفته و حتی ساعات متفاوت، قیمت یک پرواز ممکن است تغییرات زیادی داشته باشد. با استفاده از تقویم قیمتی و فیلترهای تعبیه شده جستجو می توانید با چند روز جابجایی پروازهای به مراتب ارزان تری پیدا کنید. علاوه بر این، پروازهای توقف دار و صبح زود هم معمولا پروازهای ارزان تری هستند. بلیط خود را از سایت های معتبر خریداری کنید و قیمت آنها را در ازای خدمتی که می دهند با هم مقایسه کنید. با در نظر گرفتن این موارد می توانید هوشمندانه، بهترین و ارزان ترین پرواز را برای سفر خود تهیه کنید.\n",
            "\n",
            "حتما قبل از انتخاب پرواز خود در مورد مقررات پرواز و قوانین مربوط به ویزا تحقیق کنید (مثلا ممکن است مقصد سفر شما نیاز به ویزا نداشته باشد ولی برای توقفی که در مسیر دارد نیاز به ویزای ترانزیت داشته باشید). برای این کار به صفحه قوانین و مقررات پرواز خارجی مراجعه کنید و در صورتی که نیاز به اطلاعات بیشتری داشتید با پشتیبانی علی‌بابا تماس بگیرید.\n",
            " ۰۲۱-۴۳۹۰۰۰۰۰ : شماره تماس\u001b[0m\u001b[32;1m\u001b[1;3mRelevant Documents: 0\n",
            "Cited Documents: 0\n",
            "Answer: برای خرید ارزان‌ترین بلیط، موارد زیر را در نظر بگیرید:\n",
            "- معمولا هرچه زودتر بلیط را بخرید، ارزان‌تر است.\n",
            "- بلیط ایرلاین‌های مختلف را چک کنید. برای اغلب مسیرها ایرلاین‌های کم‌هزینه (Low Cost Airline) وجود دارند که در ازای خدمات و امکانات کمتر، پروازهای ارزان‌تری به شما پیشنهاد می‌دهند.\n",
            "- در روزهای مختلف سال، فصل و هفته و حتی ساعات متفاوت، قیمت یک پرواز ممکن است تغییرات زیادی داشته باشد. با استفاده از تقویم قیمتی و فیلترهای تعبیه‌شده جستجو می‌توانید با چند روز جابجایی پروازهای به‌مراتب ارزان‌تری پیدا کنید.\n",
            "- علاوه بر این، پروازهای توقف‌دار و صبح زود هم معمولا پروازهای ارزان‌تری هستند.\n",
            "- بلیط خود را از سایت‌های معتبر خریداری کنید و قیمت آنها را در ازای خدمتی که می‌دهند با هم مقایسه کنید.\n",
            "Grounded answer: برای خرید ارزان‌ترین بلیط، موارد زیر را در نظر بگیرید:\n",
            "- <co: 0>معمولا هرچه زودتر بلیط را بخرید، ارزان‌تر است</co: 0>.\n",
            "- <co: 0>بلیط ایرلاین‌های مختلف را چک کنید. برای اغلب مسیرها ایرلاین‌های کم‌هزینه (Low Cost Airline) وجود دارند که در ازای خدمات و امکانات کمتر، پروازهای ارزان‌تری به شما پیشنهاد می‌دهند</co: 0>.\n",
            "- <co: 0>در روزهای مختلف سال، فصل و هفته و حتی ساعات متفاوت، قیمت یک پرواز ممکن است تغییرات زیادی داشته باشد. با استفاده از تقویم قیمتی و فیلترهای تعبیه‌شده جستجو می‌توانید با چند روز جابجایی پروازهای به‌مراتب ارزان‌تری پیدا کنید</co: 0>.\n",
            "- <co: 0>علاوه بر این، پروازهای توقف‌دار و صبح زود هم معمولا پروازهای ارزان‌تری هستند</co: 0>.\n",
            "- <co: 0>بلیط خود را از سایت‌های معتبر خریداری کنید و قیمت آنها را در ازای خدمتی که می‌دهند با هم مقایسه کنید</co: 0>.\u001b[0m\n",
            "\n",
            "\u001b[1m> Finished chain.\u001b[0m\n",
            "{'input': 'سوالی هم دارم ارزان ترین بلیط رو چه طوری بخرم؟', 'output': 'برای خرید ارزان\\u200cترین بلیط، موارد زیر را در نظر بگیرید:\\n- معمولا هرچه زودتر بلیط را بخرید، ارزان\\u200cتر است.\\n- بلیط ایرلاین\\u200cهای مختلف را چک کنید. برای اغلب مسیرها ایرلاین\\u200cهای کم\\u200cهزینه (Low Cost Airline) وجود دارند که در ازای خدمات و امکانات کمتر، پروازهای ارزان\\u200cتری به شما پیشنهاد می\\u200cدهند.\\n- در روزهای مختلف سال، فصل و هفته و حتی ساعات متفاوت، قیمت یک پرواز ممکن است تغییرات زیادی داشته باشد. با استفاده از تقویم قیمتی و فیلترهای تعبیه\\u200cشده جستجو می\\u200cتوانید با چند روز جابجایی پروازهای به\\u200cمراتب ارزان\\u200cتری پیدا کنید.\\n- علاوه بر این، پروازهای توقف\\u200cدار و صبح زود هم معمولا پروازهای ارزان\\u200cتری هستند.\\n- بلیط خود را از سایت\\u200cهای معتبر خریداری کنید و قیمت آنها را در ازای خدمتی که می\\u200cدهند با هم مقایسه کنید.', 'citations': [CohereCitation(start=57, end=102, text='معمولا هرچه زودتر بلیط را بخرید، ارزان\\u200cتر است', documents=[{'output': 'ارزان بودن بلیط سفر به عوامل مختلفی مرتبط است که برخی از مهم ترین آنها این موارد هستند:\\nدر پروازهای سیستمی معمولا هرچه به زمان پرواز نزدیک تر می شویم به دلیل پر شدن کلاس نرخی های ارزان تر، قیمت آن افزایش پیدا می کند. معمولا هرچه زودتر پروازتان را بخرید ارزان تر است. بلیط ایرلاین های مختلف را چک کنید. برای اغلب مسیرها ایرلاین های کم هزینه (Low Cost Airline) وجود دارند که در ازای خدمات و امکانات کمتر، پروازهای ارزان تری به شما پیشنهاد می دهند. در روزهای مختلف سال، فصل و هفته و حتی ساعات متفاوت، قیمت یک پرواز ممکن است تغییرات زیادی داشته باشد. با استفاده از تقویم قیمتی و فیلترهای تعبیه شده جستجو می توانید با چند روز جابجایی پروازهای به مراتب ارزان تری پیدا کنید. علاوه بر این، پروازهای توقف دار و صبح زود هم معمولا پروازهای ارزان تری هستند. بلیط خود را از سایت های معتبر خریداری کنید و قیمت آنها را در ازای خدمتی که می دهند با هم مقایسه کنید. با در نظر گرفتن این موارد می توانید هوشمندانه، بهترین و ارزان ترین پرواز را برای سفر خود تهیه کنید.\\n\\nحتما قبل از انتخاب پرواز خود در مورد مقررات پرواز و قوانین مربوط به ویزا تحقیق کنید (مثلا ممکن است مقصد سفر شما نیاز به ویزا نداشته باشد ولی برای توقفی که در مسیر دارد نیاز به ویزای ترانزیت داشته باشید). برای این کار به صفحه قوانین و مقررات پرواز خارجی مراجعه کنید و در صورتی که نیاز به اطلاعات بیشتری داشتید با پشتیبانی علی\\u200cبابا تماس بگیرید.\\n ۰۲۱-۴۳۹۰۰۰۰۰ : شماره تماس', 'id': 'doc_0'}], document_ids={'doc_0'}), CohereCitation(start=106, end=283, text='بلیط ایرلاین\\u200cهای مختلف را چک کنید. برای اغلب مسیرها ایرلاین\\u200cهای کم\\u200cهزینه (Low Cost Airline) وجود دارند که در ازای خدمات و امکانات کمتر، پروازهای ارزان\\u200cتری به شما پیشنهاد می\\u200cدهند', documents=[{'output': 'ارزان بودن بلیط سفر به عوامل مختلفی مرتبط است که برخی از مهم ترین آنها این موارد هستند:\\nدر پروازهای سیستمی معمولا هرچه به زمان پرواز نزدیک تر می شویم به دلیل پر شدن کلاس نرخی های ارزان تر، قیمت آن افزایش پیدا می کند. معمولا هرچه زودتر پروازتان را بخرید ارزان تر است. بلیط ایرلاین های مختلف را چک کنید. برای اغلب مسیرها ایرلاین های کم هزینه (Low Cost Airline) وجود دارند که در ازای خدمات و امکانات کمتر، پروازهای ارزان تری به شما پیشنهاد می دهند. در روزهای مختلف سال، فصل و هفته و حتی ساعات متفاوت، قیمت یک پرواز ممکن است تغییرات زیادی داشته باشد. با استفاده از تقویم قیمتی و فیلترهای تعبیه شده جستجو می توانید با چند روز جابجایی پروازهای به مراتب ارزان تری پیدا کنید. علاوه بر این، پروازهای توقف دار و صبح زود هم معمولا پروازهای ارزان تری هستند. بلیط خود را از سایت های معتبر خریداری کنید و قیمت آنها را در ازای خدمتی که می دهند با هم مقایسه کنید. با در نظر گرفتن این موارد می توانید هوشمندانه، بهترین و ارزان ترین پرواز را برای سفر خود تهیه کنید.\\n\\nحتما قبل از انتخاب پرواز خود در مورد مقررات پرواز و قوانین مربوط به ویزا تحقیق کنید (مثلا ممکن است مقصد سفر شما نیاز به ویزا نداشته باشد ولی برای توقفی که در مسیر دارد نیاز به ویزای ترانزیت داشته باشید). برای این کار به صفحه قوانین و مقررات پرواز خارجی مراجعه کنید و در صورتی که نیاز به اطلاعات بیشتری داشتید با پشتیبانی علی\\u200cبابا تماس بگیرید.\\n ۰۲۱-۴۳۹۰۰۰۰۰ : شماره تماس', 'id': 'doc_0'}], document_ids={'doc_0'}), CohereCitation(start=287, end=507, text='در روزهای مختلف سال، فصل و هفته و حتی ساعات متفاوت، قیمت یک پرواز ممکن است تغییرات زیادی داشته باشد. با استفاده از تقویم قیمتی و فیلترهای تعبیه\\u200cشده جستجو می\\u200cتوانید با چند روز جابجایی پروازهای به\\u200cمراتب ارزان\\u200cتری پیدا کنید', documents=[{'output': 'ارزان بودن بلیط سفر به عوامل مختلفی مرتبط است که برخی از مهم ترین آنها این موارد هستند:\\nدر پروازهای سیستمی معمولا هرچه به زمان پرواز نزدیک تر می شویم به دلیل پر شدن کلاس نرخی های ارزان تر، قیمت آن افزایش پیدا می کند. معمولا هرچه زودتر پروازتان را بخرید ارزان تر است. بلیط ایرلاین های مختلف را چک کنید. برای اغلب مسیرها ایرلاین های کم هزینه (Low Cost Airline) وجود دارند که در ازای خدمات و امکانات کمتر، پروازهای ارزان تری به شما پیشنهاد می دهند. در روزهای مختلف سال، فصل و هفته و حتی ساعات متفاوت، قیمت یک پرواز ممکن است تغییرات زیادی داشته باشد. با استفاده از تقویم قیمتی و فیلترهای تعبیه شده جستجو می توانید با چند روز جابجایی پروازهای به مراتب ارزان تری پیدا کنید. علاوه بر این، پروازهای توقف دار و صبح زود هم معمولا پروازهای ارزان تری هستند. بلیط خود را از سایت های معتبر خریداری کنید و قیمت آنها را در ازای خدمتی که می دهند با هم مقایسه کنید. با در نظر گرفتن این موارد می توانید هوشمندانه، بهترین و ارزان ترین پرواز را برای سفر خود تهیه کنید.\\n\\nحتما قبل از انتخاب پرواز خود در مورد مقررات پرواز و قوانین مربوط به ویزا تحقیق کنید (مثلا ممکن است مقصد سفر شما نیاز به ویزا نداشته باشد ولی برای توقفی که در مسیر دارد نیاز به ویزای ترانزیت داشته باشید). برای این کار به صفحه قوانین و مقررات پرواز خارجی مراجعه کنید و در صورتی که نیاز به اطلاعات بیشتری داشتید با پشتیبانی علی\\u200cبابا تماس بگیرید.\\n ۰۲۱-۴۳۹۰۰۰۰۰ : شماره تماس', 'id': 'doc_0'}], document_ids={'doc_0'}), CohereCitation(start=511, end=587, text='علاوه بر این، پروازهای توقف\\u200cدار و صبح زود هم معمولا پروازهای ارزان\\u200cتری هستند', documents=[{'output': 'ارزان بودن بلیط سفر به عوامل مختلفی مرتبط است که برخی از مهم ترین آنها این موارد هستند:\\nدر پروازهای سیستمی معمولا هرچه به زمان پرواز نزدیک تر می شویم به دلیل پر شدن کلاس نرخی های ارزان تر، قیمت آن افزایش پیدا می کند. معمولا هرچه زودتر پروازتان را بخرید ارزان تر است. بلیط ایرلاین های مختلف را چک کنید. برای اغلب مسیرها ایرلاین های کم هزینه (Low Cost Airline) وجود دارند که در ازای خدمات و امکانات کمتر، پروازهای ارزان تری به شما پیشنهاد می دهند. در روزهای مختلف سال، فصل و هفته و حتی ساعات متفاوت، قیمت یک پرواز ممکن است تغییرات زیادی داشته باشد. با استفاده از تقویم قیمتی و فیلترهای تعبیه شده جستجو می توانید با چند روز جابجایی پروازهای به مراتب ارزان تری پیدا کنید. علاوه بر این، پروازهای توقف دار و صبح زود هم معمولا پروازهای ارزان تری هستند. بلیط خود را از سایت های معتبر خریداری کنید و قیمت آنها را در ازای خدمتی که می دهند با هم مقایسه کنید. با در نظر گرفتن این موارد می توانید هوشمندانه، بهترین و ارزان ترین پرواز را برای سفر خود تهیه کنید.\\n\\nحتما قبل از انتخاب پرواز خود در مورد مقررات پرواز و قوانین مربوط به ویزا تحقیق کنید (مثلا ممکن است مقصد سفر شما نیاز به ویزا نداشته باشد ولی برای توقفی که در مسیر دارد نیاز به ویزای ترانزیت داشته باشید). برای این کار به صفحه قوانین و مقررات پرواز خارجی مراجعه کنید و در صورتی که نیاز به اطلاعات بیشتری داشتید با پشتیبانی علی\\u200cبابا تماس بگیرید.\\n ۰۲۱-۴۳۹۰۰۰۰۰ : شماره تماس', 'id': 'doc_0'}], document_ids={'doc_0'}), CohereCitation(start=591, end=691, text='بلیط خود را از سایت\\u200cهای معتبر خریداری کنید و قیمت آنها را در ازای خدمتی که می\\u200cدهند با هم مقایسه کنید', documents=[{'output': 'ارزان بودن بلیط سفر به عوامل مختلفی مرتبط است که برخی از مهم ترین آنها این موارد هستند:\\nدر پروازهای سیستمی معمولا هرچه به زمان پرواز نزدیک تر می شویم به دلیل پر شدن کلاس نرخی های ارزان تر، قیمت آن افزایش پیدا می کند. معمولا هرچه زودتر پروازتان را بخرید ارزان تر است. بلیط ایرلاین های مختلف را چک کنید. برای اغلب مسیرها ایرلاین های کم هزینه (Low Cost Airline) وجود دارند که در ازای خدمات و امکانات کمتر، پروازهای ارزان تری به شما پیشنهاد می دهند. در روزهای مختلف سال، فصل و هفته و حتی ساعات متفاوت، قیمت یک پرواز ممکن است تغییرات زیادی داشته باشد. با استفاده از تقویم قیمتی و فیلترهای تعبیه شده جستجو می توانید با چند روز جابجایی پروازهای به مراتب ارزان تری پیدا کنید. علاوه بر این، پروازهای توقف دار و صبح زود هم معمولا پروازهای ارزان تری هستند. بلیط خود را از سایت های معتبر خریداری کنید و قیمت آنها را در ازای خدمتی که می دهند با هم مقایسه کنید. با در نظر گرفتن این موارد می توانید هوشمندانه، بهترین و ارزان ترین پرواز را برای سفر خود تهیه کنید.\\n\\nحتما قبل از انتخاب پرواز خود در مورد مقررات پرواز و قوانین مربوط به ویزا تحقیق کنید (مثلا ممکن است مقصد سفر شما نیاز به ویزا نداشته باشد ولی برای توقفی که در مسیر دارد نیاز به ویزای ترانزیت داشته باشید). برای این کار به صفحه قوانین و مقررات پرواز خارجی مراجعه کنید و در صورتی که نیاز به اطلاعات بیشتری داشتید با پشتیبانی علی\\u200cبابا تماس بگیرید.\\n ۰۲۱-۴۳۹۰۰۰۰۰ : شماره تماس', 'id': 'doc_0'}], document_ids={'doc_0'})]}\n",
            "\n",
            "\n",
            "\u001b[1m> Entering new AgentExecutor chain...\u001b[0m\n",
            "\u001b[32;1m\u001b[1;3m\n",
            "I will search for flights to Shiraz and write an answer in Persian.\n",
            "{'tool_name': 'search_flights_by_destination', 'parameters': {'destination': 'شیراز'}}\n",
            "\u001b[0m\u001b[38;5;200m\u001b[1;3m[{'id': 2, 'flight_no': 102, 'arrive': '14:45', 'take_off': '16:15', 'destination': 'شیراز', 'origin': 'مشهد'}]\u001b[0m\u001b[32;1m\u001b[1;3mRelevant Documents: 0\n",
            "Cited Documents: 0\n",
            "Answer: پرواز شماره 102 از مشهد به شیراز در ساعت 16:15 حرکت می کند.\n",
            "Grounded answer: پرواز شماره <co: 0>102</co: 0> از <co: 0>مشهد</co: 0> به شیراز در ساعت <co: 0>16:15</co: 0> حرکت می کند.\u001b[0m\n",
            "\n",
            "\u001b[1m> Finished chain.\u001b[0m\n",
            "{'input': 'می خوام برم شیراز با چه هواپیمایی برم؟', 'output': 'پرواز شماره 102 از مشهد به شیراز در ساعت 16:15 حرکت می کند.', 'citations': [CohereCitation(start=12, end=15, text='102', documents=[{'id': 2, 'flight_no': 102, 'arrive': '14:45', 'take_off': '16:15', 'destination': 'شیراز', 'origin': 'مشهد'}], document_ids={2}), CohereCitation(start=19, end=23, text='مشهد', documents=[{'id': 2, 'flight_no': 102, 'arrive': '14:45', 'take_off': '16:15', 'destination': 'شیراز', 'origin': 'مشهد'}], document_ids={2}), CohereCitation(start=41, end=46, text='16:15', documents=[{'id': 2, 'flight_no': 102, 'arrive': '14:45', 'take_off': '16:15', 'destination': 'شیراز', 'origin': 'مشهد'}], document_ids={2})]}\n",
            "\n",
            "\n",
            "\u001b[1m> Entering new AgentExecutor chain...\u001b[0m\n",
            "\u001b[32;1m\u001b[1;3m\n",
            "I will search for flights to Kerman and provide the user with the departure times.\n",
            "{'tool_name': 'search_flights_by_destination', 'parameters': {'destination': 'کرمان'}}\n",
            "\u001b[0m\u001b[38;5;200m\u001b[1;3m[{'id': 5, 'flight_no': 105, 'arrive': '21:00', 'take_off': '22:30', 'destination': 'کرمان', 'origin': 'همدان'}]\u001b[0m\u001b[32;1m\u001b[1;3mRelevant Documents: 0\n",
            "Cited Documents: 0\n",
            "Answer: The flight from Hamedan to Kerman takes off at 22:30.\n",
            "Grounded answer: The flight from <co: 0>Hamedan</co: 0> to Kerman takes off at <co: 0>22:30</co: 0>.\u001b[0m\n",
            "\n",
            "\u001b[1m> Finished chain.\u001b[0m\n",
            "{'input': 'چه ساعتی هواپیمای کرمان حرکت میکنه؟', 'output': 'The flight from Hamedan to Kerman takes off at 22:30.', 'citations': [CohereCitation(start=16, end=23, text='Hamedan', documents=[{'id': 5, 'flight_no': 105, 'arrive': '21:00', 'take_off': '22:30', 'destination': 'کرمان', 'origin': 'همدان'}], document_ids={5}), CohereCitation(start=47, end=52, text='22:30', documents=[{'id': 5, 'flight_no': 105, 'arrive': '21:00', 'take_off': '22:30', 'destination': 'کرمان', 'origin': 'همدان'}], document_ids={5})]}\n"
          ]
        }
      ],
      "source": [
        "questions = {\n",
        "\n",
        "    \"input1\":\"سوالی هم دارم ارزان ترین بلیط رو چه طوری بخرم؟\",\n",
        "    \"input2\": \"می خوام برم شیراز با چه هواپیمایی برم؟\",\n",
        "    \"input3\": \"چه ساعتی هواپیمای کرمان حرکت میکنه؟\"\n",
        "}\n",
        "\n",
        "for key, value in questions.items():\n",
        "    # Invoke the agent with each question\n",
        "    result = agent_executor.invoke({\n",
        "        \"input\": value\n",
        "    })\n",
        "    print(result)\n"
      ]
    },
    {
      "cell_type": "markdown",
      "source": [
        "## Resources:\n",
        "\n",
        "- [GenAICourse YouTube Channel in Persian](https://www.youtube.com/@GenAICourse)\n",
        "- [Data Analyst Agent Cohere and Langchain GitHub Notebook](https://github.com/cohere-ai/notebooks/blob/main/notebooks/Data_Analyst_Agent_Cohere_and_Langchain.ipynb?ref=cohere-ai.ghost.io)\n",
        "- [Langgraph Tutorials: Customer Support](https://langchain-ai.github.io/langgraph/tutorials/customer-support/customer-support/)\n"
      ],
      "metadata": {
        "id": "KYikgYS59pEb"
      }
    },
    {
      "cell_type": "markdown",
      "source": [
        "### Crawling for FAQ"
      ],
      "metadata": {
        "id": "yWXxu584-jG7"
      }
    },
    {
      "cell_type": "code",
      "source": [
        "import requests\n",
        "from bs4 import BeautifulSoup\n",
        "import pandas as pd\n",
        "\n",
        "url = 'https://www.alibaba.ir/iranout'\n",
        "response = requests.get(url)\n",
        "\n",
        "soup = BeautifulSoup(response.text, 'html.parser')\n",
        "\n",
        "details = soup.find_all('details')\n",
        "\n",
        "questions = []\n",
        "answers = []\n",
        "\n",
        "for detail in details:\n",
        "    question = detail.find(class_='a-accordion__button')\n",
        "    answer = detail.find(class_='faq-wrapper__description')\n",
        "\n",
        "    if question and answer:\n",
        "        questions.append(question.text.strip())\n",
        "        answers.append(answer.text.strip())\n",
        "\n",
        "df = pd.DataFrame({'Question': questions, 'Answer': answers})\n",
        "\n",
        "df.to_excel('questions_and_answers.xlsx', index=False)\n"
      ],
      "metadata": {
        "id": "tZBZpSlC9rld"
      },
      "execution_count": 161,
      "outputs": []
    }
  ],
  "metadata": {
    "colab": {
      "provenance": []
    },
    "kernelspec": {
      "display_name": "Python 3 (ipykernel)",
      "language": "python",
      "name": "python3"
    },
    "language_info": {
      "codemirror_mode": {
        "name": "ipython",
        "version": 3
      },
      "file_extension": ".py",
      "mimetype": "text/x-python",
      "name": "python",
      "nbconvert_exporter": "python",
      "pygments_lexer": "ipython3",
      "version": "3.9.13"
    }
  },
  "nbformat": 4,
  "nbformat_minor": 0
}
