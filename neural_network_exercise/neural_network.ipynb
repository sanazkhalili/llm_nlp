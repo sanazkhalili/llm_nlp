{
  "nbformat": 4,
  "nbformat_minor": 0,
  "metadata": {
    "colab": {
      "provenance": []
    },
    "kernelspec": {
      "name": "python3",
      "display_name": "Python 3"
    },
    "language_info": {
      "name": "python"
    }
  },
  "cells": [
    {
      "cell_type": "markdown",
      "source": [
        "# Generate sample data"
      ],
      "metadata": {
        "id": "ihLl4I1qWXsH"
      }
    },
    {
      "cell_type": "code",
      "source": [
        "import random\n",
        "\n",
        "first_names = [\"Ali\", \"Zahra\", \"Reza\", \"Sara\", \"Mohammad\", \"Fatemeh\", \"Hossein\", \"Maryam\", \"Mehdi\", \"Narges\", \"Hamed\", \"Roya\"]\n",
        "last_names = [\"Ahmadi\", \"Hosseini\", \"Karimi\", \"Rahimi\", \"Hashemi\", \"Ebrahimi\", \"Moradi\", \"Mohammadi\", \"Rostami\", \"Fazeli\", \"Hosseinzadeh\", \"Niknam\"]\n",
        "\n",
        "random.seed(42)\n",
        "# Generate unique random names\n",
        "random_names = set()\n",
        "while len(random_names) < 24:\n",
        "    first_name = random.choice(first_names)\n",
        "    last_name = random.choice(last_names)\n",
        "    random_names.add(f\"{first_name} {last_name}\")\n",
        "\n",
        "random_names = list(random_names)  # Convert set to list\n",
        "\n",
        "random_names"
      ],
      "metadata": {
        "id": "ey4pHcXEX0in",
        "colab": {
          "base_uri": "https://localhost:8080/"
        },
        "outputId": "c510e991-7dce-4f8a-ee4f-3a2294e7133c"
      },
      "execution_count": 6,
      "outputs": [
        {
          "output_type": "execute_result",
          "data": {
            "text/plain": [
              "['Zahra Rahimi',\n",
              " 'Mohammad Rahimi',\n",
              " 'Mohammad Ahmadi',\n",
              " 'Hamed Niknam',\n",
              " 'Sara Karimi',\n",
              " 'Zahra Hosseini',\n",
              " 'Sara Ebrahimi',\n",
              " 'Mehdi Hosseini',\n",
              " 'Hamed Hosseini',\n",
              " 'Roya Hosseinzadeh',\n",
              " 'Ali Niknam',\n",
              " 'Narges Moradi',\n",
              " 'Mohammad Karimi',\n",
              " 'Reza Niknam',\n",
              " 'Mehdi Rahimi',\n",
              " 'Roya Hosseini',\n",
              " 'Maryam Fazeli',\n",
              " 'Sara Rostami',\n",
              " 'Ali Ahmadi',\n",
              " 'Roya Rostami',\n",
              " 'Hossein Ebrahimi',\n",
              " 'Narges Ahmadi',\n",
              " 'Hossein Hosseini',\n",
              " 'Hossein Rahimi']"
            ]
          },
          "metadata": {},
          "execution_count": 6
        }
      ]
    },
    {
      "cell_type": "markdown",
      "source": [
        "# Generate conflict matrix"
      ],
      "metadata": {
        "id": "eQ5I2h8eWcih"
      }
    },
    {
      "cell_type": "code",
      "source": [
        "import numpy as np\n",
        "import pandas as pd\n",
        "\n",
        "# Initialize a 24x24 matrix with zeros\n",
        "conflict_matrix = np.zeros((24, 24), dtype=int)\n",
        "\n",
        "# Randomly set 40 unique pairs for conflicts\n",
        "number_conf = 0\n",
        "while number_conf < 40:\n",
        "    i = random.randint(0, 23)\n",
        "    j = random.randint(0, 23)\n",
        "    if i != j and conflict_matrix[i, j]!=1:\n",
        "        conflict_matrix[i, j] = 1\n",
        "        number_conf+=1\n",
        "\n",
        "# Create a DataFrame with the conflict matrix\n",
        "conflict_df = pd.DataFrame(conflict_matrix, index=random_names, columns=random_names)\n",
        "#print(conflict_df)\n",
        "print(\"number of conflict: \", np.count_nonzero(conflict_df == 1))\n"
      ],
      "metadata": {
        "colab": {
          "base_uri": "https://localhost:8080/"
        },
        "id": "UnZeu2pVAz4C",
        "outputId": "fcaeda0a-f95e-4147-cdf4-03c68d8d5d46"
      },
      "execution_count": 7,
      "outputs": [
        {
          "output_type": "stream",
          "name": "stdout",
          "text": [
            "number of conflict:  40\n"
          ]
        }
      ]
    },
    {
      "cell_type": "code",
      "source": [
        "conflict_matrix[16]"
      ],
      "metadata": {
        "colab": {
          "base_uri": "https://localhost:8080/"
        },
        "id": "vi89BvKwBg3a",
        "outputId": "544435cf-490e-4a46-dc95-90b46717cd23"
      },
      "execution_count": 8,
      "outputs": [
        {
          "output_type": "execute_result",
          "data": {
            "text/plain": [
              "array([0, 0, 0, 0, 0, 0, 0, 0, 0, 0, 0, 0, 0, 0, 0, 0, 0, 0, 0, 0, 0, 0,\n",
              "       0, 0])"
            ]
          },
          "metadata": {},
          "execution_count": 8
        }
      ]
    },
    {
      "cell_type": "code",
      "source": [
        "import torch\n",
        "import torch.nn as nn\n",
        "import torch.optim as optim\n",
        "\n",
        "class SeatingNetwork(nn.Module):\n",
        "    def __init__(self):\n",
        "        super(SeatingNetwork, self).__init__()\n",
        "        self.fc1 = nn.Linear(24 * 24, 512)\n",
        "        self.fc2 = nn.Linear(512, 256)\n",
        "        self.fc3 = nn.Linear(256, 24)  # Output 24 values\n",
        "        self.dropout = nn.Dropout(0.2)\n",
        "\n",
        "    def forward(self, x):\n",
        "        x = torch.flatten(x)\n",
        "        x = torch.relu(self.fc1(x))\n",
        "        x = self.dropout(x)\n",
        "        x = torch.relu(self.fc2(x))\n",
        "        x = self.dropout(x)\n",
        "        x = self.fc3(x)\n",
        "        x = x.view(4, 6)  # Reshape the output to 4x6\n",
        "        return x"
      ],
      "metadata": {
        "id": "nOqPOwd8SHEc"
      },
      "execution_count": null,
      "outputs": []
    },
    {
      "cell_type": "code",
      "source": [
        "\n",
        "def calculate_total_conflict(seating_arrangement, conflict_matrix):\n",
        "    total_conflict = 0.0\n",
        "    for i in range(4):\n",
        "      for j in range(6):\n",
        "        person = seating_arrangement[i][j]\n",
        "        person_n_i = i*6 + j\n",
        "        if i>0:\n",
        "          person_up = seating_arrangement[i-1][j]\n",
        "          person_n_j = (i-1)*6 + j\n",
        "          total_conflict += conflict_matrix[person_n_i][person_n_j] * torch.abs(person - person_up)\n",
        "\n",
        "        if i<3:\n",
        "          person_bottom = seating_arrangement[i+1][j]\n",
        "          person_n_j = (i+1)*6 + j\n",
        "          total_conflict += conflict_matrix[person_n_i][person_n_j] * torch.abs(person - person_bottom)\n",
        "\n",
        "        if j>0:\n",
        "          person_left = seating_arrangement[i][j-1]\n",
        "          person_n_j = i*6 + (j-1)\n",
        "          total_conflict += conflict_matrix[person_n_i][person_n_j] * torch.abs(person - person_left)\n",
        "\n",
        "        if j<5:\n",
        "          person_right = seating_arrangement[i][j+1]\n",
        "          person_n_j = i*6 + (j+1)\n",
        "          total_conflict += conflict_matrix[person_n_i][person_n_j] * torch.abs(person - person_right)\n",
        "\n",
        "    return total_conflict\n",
        "\n",
        "\n",
        "def custom_loss_function(y_pred, conflict_matrix):\n",
        "    seating_arrangement = y_pred\n",
        "    total_conflict = calculate_total_conflict(seating_arrangement, conflict_matrix)\n",
        "    return total_conflict\n"
      ],
      "metadata": {
        "id": "ZolhCstbSJJh"
      },
      "execution_count": 27,
      "outputs": []
    },
    {
      "cell_type": "markdown",
      "source": [
        "# Train"
      ],
      "metadata": {
        "id": "qa3erGkDSKcD"
      }
    },
    {
      "cell_type": "code",
      "source": [
        "\n",
        "conflict_matrix_tensor = torch.tensor(conflict_matrix, dtype=torch.float32)\n",
        "\n",
        "# Define the model and optimizer\n",
        "model = SeatingNetwork()\n",
        "optimizer = optim.Adam(model.parameters(), lr=0.001)\n",
        "\n",
        "per_loss = 1\n",
        "for epoch in range(2000):\n",
        "    y_pred = model(conflict_matrix_tensor)\n",
        "    y_pred.requires_grad_(True)\n",
        "\n",
        "    loss = custom_loss_function(y_pred, conflict_matrix_tensor)\n",
        "\n",
        "    optimizer.zero_grad()\n",
        "    loss.backward()\n",
        "    optimizer.step()\n",
        "\n",
        "    #if epoch % 10 == 0:\n",
        "    print(f'Epoch {epoch}, Loss: {loss.item()}')\n",
        "    if per_loss<loss.item() or loss==0:\n",
        "      break\n",
        "    per_loss = loss\n",
        "print(\"Training complete\")\n"
      ],
      "metadata": {
        "colab": {
          "base_uri": "https://localhost:8080/"
        },
        "id": "o6zAI5pQA2Bv",
        "outputId": "da881c9a-687b-4a0f-b025-8887291d4620"
      },
      "execution_count": 28,
      "outputs": [
        {
          "output_type": "stream",
          "name": "stdout",
          "text": [
            "Epoch 0, Loss: 0.24939480423927307\n",
            "Epoch 1, Loss: 0.31881844997406006\n",
            "Training complete\n"
          ]
        }
      ]
    },
    {
      "cell_type": "markdown",
      "source": [
        "# predict"
      ],
      "metadata": {
        "id": "qTZ48UMgDFQN"
      }
    },
    {
      "cell_type": "code",
      "source": [
        "import numpy as np\n",
        "\n",
        "def count_conflicts(seating_arrangement, conflict_matrix):\n",
        "    total_conflict = 0\n",
        "\n",
        "    for i in range(4):\n",
        "      for j in range(6):\n",
        "        person = seating_arrangement[i][j]\n",
        "        person_n_i = i*6 + j\n",
        "        if i>0:\n",
        "          person_up = seating_arrangement[i-1][j]\n",
        "          person_n_j = (i-1)*6 + j\n",
        "          if conflict_matrix[person][person_up]==1:\n",
        "            print(person, person_up)\n",
        "            total_conflict += 1\n",
        "\n",
        "        if i<3:\n",
        "          person_bottom = seating_arrangement[i+1][j]\n",
        "          person_n_j = (i+1)*6 + j\n",
        "          if conflict_matrix[person][person_bottom]==1:\n",
        "            print(person, person_bottom)\n",
        "            total_conflict += 1\n",
        "\n",
        "        if j>0:\n",
        "          person_left = seating_arrangement[i][j-1]\n",
        "          person_n_j = i*6 + (j-1)\n",
        "          if conflict_matrix[person][person_left]==1:\n",
        "            print(person, person_left)\n",
        "            total_conflict += 1\n",
        "\n",
        "        if j<5:\n",
        "          person_right = seating_arrangement[i][j+1]\n",
        "          person_n_j = i*6 + (j+1)\n",
        "          if conflict_matrix[person][person_right]==1:\n",
        "            print(person, person_right)\n",
        "            total_conflict += 1\n",
        "    return total_conflict"
      ],
      "metadata": {
        "id": "_jPmHXMYGbJI"
      },
      "execution_count": 33,
      "outputs": []
    },
    {
      "cell_type": "code",
      "source": [
        "# Make predictions\n",
        "with torch.no_grad():\n",
        "    model.eval()\n",
        "    y_pred = model(conflict_matrix_tensor)\n",
        "    predicted_seating_arrangement = y_pred.numpy()\n",
        "    print(predicted_seating_arrangement)"
      ],
      "metadata": {
        "colab": {
          "base_uri": "https://localhost:8080/"
        },
        "id": "rqe0HdY2Msdd",
        "outputId": "475cee97-6585-46c6-d1e1-534e67d3e386"
      },
      "execution_count": 34,
      "outputs": [
        {
          "output_type": "stream",
          "name": "stdout",
          "text": [
            "[[-0.05765697  0.01802682  0.04081899 -0.02138504 -0.04815894  0.00678154]\n",
            " [-0.01760353  0.02048022  0.0407415   0.00597371  0.08375765 -0.00309765]\n",
            " [-0.04335405 -0.02195673 -0.06520856  0.04646108 -0.05045597 -0.05848679]\n",
            " [-0.00399736 -0.02234163  0.03219848 -0.04365114  0.03085902 -0.03783605]]\n"
          ]
        }
      ]
    },
    {
      "cell_type": "code",
      "source": [
        "sorted_indices = np.argsort(predicted_seating_arrangement, axis=None)\n",
        "\n",
        "sorted_positions = np.arange(predicted_seating_arrangement.size)[sorted_indices]\n",
        "\n",
        "predicted_seating_arrangement = sorted_positions.reshape(predicted_seating_arrangement.shape)\n",
        "\n",
        "print(\"Predicted seating arrangement:\\n\", predicted_seating_arrangement)\n",
        "\n",
        "total_conflicts = count_conflicts(predicted_seating_arrangement, conflict_matrix)\n",
        "print(f'\\n Total number of conflicts in the predicted arrangement: {total_conflicts}')\n"
      ],
      "metadata": {
        "colab": {
          "base_uri": "https://localhost:8080/"
        },
        "id": "JhrSEFw5DHev",
        "outputId": "22b44db4-8144-4125-f843-a5e38b47ca64"
      },
      "execution_count": 35,
      "outputs": [
        {
          "output_type": "stream",
          "name": "stdout",
          "text": [
            "Predicted seating arrangement:\n",
            " [[14 17  0 16  4 21]\n",
            " [12 23 19 13  3  6]\n",
            " [18 11  9  5  1  7]\n",
            " [22 20  8  2 15 10]]\n",
            "14 17\n",
            "18 12\n",
            "18 22\n",
            "1 7\n",
            "20 11\n",
            "20 22\n",
            "\n",
            " Total number of conflicts in the predicted arrangement: 6\n"
          ]
        }
      ]
    },
    {
      "cell_type": "code",
      "source": [
        "conflict_matrix[14]"
      ],
      "metadata": {
        "colab": {
          "base_uri": "https://localhost:8080/"
        },
        "id": "oCqzOdReKzGQ",
        "outputId": "4e37d90a-3c7a-4072-f877-fadda856f4da"
      },
      "execution_count": 36,
      "outputs": [
        {
          "output_type": "execute_result",
          "data": {
            "text/plain": [
              "array([0, 0, 0, 0, 1, 0, 0, 0, 0, 0, 0, 0, 0, 0, 0, 0, 0, 1, 0, 0, 0, 0,\n",
              "       0, 0])"
            ]
          },
          "metadata": {},
          "execution_count": 36
        }
      ]
    },
    {
      "cell_type": "code",
      "source": [],
      "metadata": {
        "id": "AqSy7wExW5ZQ"
      },
      "execution_count": null,
      "outputs": []
    }
  ]
}